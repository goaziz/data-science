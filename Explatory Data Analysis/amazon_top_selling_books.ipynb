{
 "cells": [
  {
   "cell_type": "markdown",
   "metadata": {
    "collapsed": true,
    "pycharm": {
     "name": "#%% md\n"
    }
   },
   "source": [
    "# Amazon Top Selling Book 2009 - 2019\n",
    "Dataset on Amazon's Top 50 bestselling books from 2009 to 2019. Contains 550 books, data has been categorized into fiction and non-fiction using Goodreads\n",
    "\n",
    "This data was taken from [kaggle](https://www.kaggle.com/sootersaalu/amazon-top-50-bestselling-books-2009-2019) user"
   ]
  },
  {
   "cell_type": "code",
   "execution_count": 2,
   "metadata": {
    "pycharm": {
     "name": "#%%\n"
    }
   },
   "outputs": [],
   "source": [
    "import pandas as pd\n",
    "import seaborn as sns"
   ]
  },
  {
   "cell_type": "code",
   "execution_count": 3,
   "metadata": {
    "pycharm": {
     "name": "#%%\n"
    }
   },
   "outputs": [],
   "source": [
    "books = pd.read_csv('../data_files/amazon_best_seller/bestsellers with categories.csv')"
   ]
  },
  {
   "cell_type": "code",
   "execution_count": 4,
   "metadata": {},
   "outputs": [
    {
     "data": {
      "text/html": [
       "<div>\n",
       "<style scoped>\n",
       "    .dataframe tbody tr th:only-of-type {\n",
       "        vertical-align: middle;\n",
       "    }\n",
       "\n",
       "    .dataframe tbody tr th {\n",
       "        vertical-align: top;\n",
       "    }\n",
       "\n",
       "    .dataframe thead th {\n",
       "        text-align: right;\n",
       "    }\n",
       "</style>\n",
       "<table border=\"1\" class=\"dataframe\">\n",
       "  <thead>\n",
       "    <tr style=\"text-align: right;\">\n",
       "      <th></th>\n",
       "      <th>Name</th>\n",
       "      <th>Author</th>\n",
       "      <th>User Rating</th>\n",
       "      <th>Reviews</th>\n",
       "      <th>Price</th>\n",
       "      <th>Year</th>\n",
       "      <th>Genre</th>\n",
       "    </tr>\n",
       "  </thead>\n",
       "  <tbody>\n",
       "    <tr>\n",
       "      <th>0</th>\n",
       "      <td>10-Day Green Smoothie Cleanse</td>\n",
       "      <td>JJ Smith</td>\n",
       "      <td>4.7</td>\n",
       "      <td>17350</td>\n",
       "      <td>8</td>\n",
       "      <td>2016</td>\n",
       "      <td>Non Fiction</td>\n",
       "    </tr>\n",
       "    <tr>\n",
       "      <th>1</th>\n",
       "      <td>11/22/63: A Novel</td>\n",
       "      <td>Stephen King</td>\n",
       "      <td>4.6</td>\n",
       "      <td>2052</td>\n",
       "      <td>22</td>\n",
       "      <td>2011</td>\n",
       "      <td>Fiction</td>\n",
       "    </tr>\n",
       "    <tr>\n",
       "      <th>2</th>\n",
       "      <td>12 Rules for Life: An Antidote to Chaos</td>\n",
       "      <td>Jordan B. Peterson</td>\n",
       "      <td>4.7</td>\n",
       "      <td>18979</td>\n",
       "      <td>15</td>\n",
       "      <td>2018</td>\n",
       "      <td>Non Fiction</td>\n",
       "    </tr>\n",
       "    <tr>\n",
       "      <th>3</th>\n",
       "      <td>1984 (Signet Classics)</td>\n",
       "      <td>George Orwell</td>\n",
       "      <td>4.7</td>\n",
       "      <td>21424</td>\n",
       "      <td>6</td>\n",
       "      <td>2017</td>\n",
       "      <td>Fiction</td>\n",
       "    </tr>\n",
       "    <tr>\n",
       "      <th>4</th>\n",
       "      <td>5,000 Awesome Facts (About Everything!) (Natio...</td>\n",
       "      <td>National Geographic Kids</td>\n",
       "      <td>4.8</td>\n",
       "      <td>7665</td>\n",
       "      <td>12</td>\n",
       "      <td>2019</td>\n",
       "      <td>Non Fiction</td>\n",
       "    </tr>\n",
       "  </tbody>\n",
       "</table>\n",
       "</div>"
      ],
      "text/plain": [
       "                                                Name  \\\n",
       "0                      10-Day Green Smoothie Cleanse   \n",
       "1                                  11/22/63: A Novel   \n",
       "2            12 Rules for Life: An Antidote to Chaos   \n",
       "3                             1984 (Signet Classics)   \n",
       "4  5,000 Awesome Facts (About Everything!) (Natio...   \n",
       "\n",
       "                     Author  User Rating  Reviews  Price  Year        Genre  \n",
       "0                  JJ Smith          4.7    17350      8  2016  Non Fiction  \n",
       "1              Stephen King          4.6     2052     22  2011      Fiction  \n",
       "2        Jordan B. Peterson          4.7    18979     15  2018  Non Fiction  \n",
       "3             George Orwell          4.7    21424      6  2017      Fiction  \n",
       "4  National Geographic Kids          4.8     7665     12  2019  Non Fiction  "
      ]
     },
     "execution_count": 4,
     "metadata": {},
     "output_type": "execute_result"
    }
   ],
   "source": [
    "books.head()"
   ]
  },
  {
   "cell_type": "code",
   "execution_count": 5,
   "metadata": {},
   "outputs": [
    {
     "name": "stdout",
     "output_type": "stream",
     "text": [
      "<class 'pandas.core.frame.DataFrame'>\n",
      "RangeIndex: 550 entries, 0 to 549\n",
      "Data columns (total 7 columns):\n",
      " #   Column       Non-Null Count  Dtype  \n",
      "---  ------       --------------  -----  \n",
      " 0   Name         550 non-null    object \n",
      " 1   Author       550 non-null    object \n",
      " 2   User Rating  550 non-null    float64\n",
      " 3   Reviews      550 non-null    int64  \n",
      " 4   Price        550 non-null    int64  \n",
      " 5   Year         550 non-null    int64  \n",
      " 6   Genre        550 non-null    object \n",
      "dtypes: float64(1), int64(3), object(3)\n",
      "memory usage: 30.2+ KB\n"
     ]
    }
   ],
   "source": [
    "books.info()"
   ]
  },
  {
   "cell_type": "code",
   "execution_count": 6,
   "metadata": {},
   "outputs": [],
   "source": [
    "# books.drop('Year', axis=1, inplace=True)"
   ]
  },
  {
   "cell_type": "code",
   "execution_count": 7,
   "metadata": {},
   "outputs": [
    {
     "data": {
      "text/html": [
       "<div>\n",
       "<style scoped>\n",
       "    .dataframe tbody tr th:only-of-type {\n",
       "        vertical-align: middle;\n",
       "    }\n",
       "\n",
       "    .dataframe tbody tr th {\n",
       "        vertical-align: top;\n",
       "    }\n",
       "\n",
       "    .dataframe thead th {\n",
       "        text-align: right;\n",
       "    }\n",
       "</style>\n",
       "<table border=\"1\" class=\"dataframe\">\n",
       "  <thead>\n",
       "    <tr style=\"text-align: right;\">\n",
       "      <th></th>\n",
       "      <th>User Rating</th>\n",
       "      <th>Reviews</th>\n",
       "      <th>Price</th>\n",
       "      <th>Year</th>\n",
       "    </tr>\n",
       "  </thead>\n",
       "  <tbody>\n",
       "    <tr>\n",
       "      <th>count</th>\n",
       "      <td>550.000000</td>\n",
       "      <td>550.000000</td>\n",
       "      <td>550.000000</td>\n",
       "      <td>550.000000</td>\n",
       "    </tr>\n",
       "    <tr>\n",
       "      <th>mean</th>\n",
       "      <td>4.618364</td>\n",
       "      <td>11953.281818</td>\n",
       "      <td>13.100000</td>\n",
       "      <td>2014.000000</td>\n",
       "    </tr>\n",
       "    <tr>\n",
       "      <th>std</th>\n",
       "      <td>0.226980</td>\n",
       "      <td>11731.132017</td>\n",
       "      <td>10.842262</td>\n",
       "      <td>3.165156</td>\n",
       "    </tr>\n",
       "    <tr>\n",
       "      <th>min</th>\n",
       "      <td>3.300000</td>\n",
       "      <td>37.000000</td>\n",
       "      <td>0.000000</td>\n",
       "      <td>2009.000000</td>\n",
       "    </tr>\n",
       "    <tr>\n",
       "      <th>25%</th>\n",
       "      <td>4.500000</td>\n",
       "      <td>4058.000000</td>\n",
       "      <td>7.000000</td>\n",
       "      <td>2011.000000</td>\n",
       "    </tr>\n",
       "    <tr>\n",
       "      <th>50%</th>\n",
       "      <td>4.700000</td>\n",
       "      <td>8580.000000</td>\n",
       "      <td>11.000000</td>\n",
       "      <td>2014.000000</td>\n",
       "    </tr>\n",
       "    <tr>\n",
       "      <th>75%</th>\n",
       "      <td>4.800000</td>\n",
       "      <td>17253.250000</td>\n",
       "      <td>16.000000</td>\n",
       "      <td>2017.000000</td>\n",
       "    </tr>\n",
       "    <tr>\n",
       "      <th>max</th>\n",
       "      <td>4.900000</td>\n",
       "      <td>87841.000000</td>\n",
       "      <td>105.000000</td>\n",
       "      <td>2019.000000</td>\n",
       "    </tr>\n",
       "  </tbody>\n",
       "</table>\n",
       "</div>"
      ],
      "text/plain": [
       "       User Rating       Reviews       Price         Year\n",
       "count   550.000000    550.000000  550.000000   550.000000\n",
       "mean      4.618364  11953.281818   13.100000  2014.000000\n",
       "std       0.226980  11731.132017   10.842262     3.165156\n",
       "min       3.300000     37.000000    0.000000  2009.000000\n",
       "25%       4.500000   4058.000000    7.000000  2011.000000\n",
       "50%       4.700000   8580.000000   11.000000  2014.000000\n",
       "75%       4.800000  17253.250000   16.000000  2017.000000\n",
       "max       4.900000  87841.000000  105.000000  2019.000000"
      ]
     },
     "execution_count": 7,
     "metadata": {},
     "output_type": "execute_result"
    }
   ],
   "source": [
    "books.describe()"
   ]
  },
  {
   "cell_type": "code",
   "execution_count": 8,
   "metadata": {},
   "outputs": [
    {
     "data": {
      "text/plain": [
       "Name           0\n",
       "Author         0\n",
       "User Rating    0\n",
       "Reviews        0\n",
       "Price          0\n",
       "Year           0\n",
       "Genre          0\n",
       "dtype: int64"
      ]
     },
     "execution_count": 8,
     "metadata": {},
     "output_type": "execute_result"
    }
   ],
   "source": [
    "books.isna().sum()"
   ]
  },
  {
   "cell_type": "code",
   "execution_count": 9,
   "metadata": {},
   "outputs": [
    {
     "data": {
      "text/plain": [
       "<AxesSubplot:xlabel='Genre', ylabel='count'>"
      ]
     },
     "execution_count": 9,
     "metadata": {},
     "output_type": "execute_result"
    },
    {
     "data": {
      "image/png": "[encoded data removed]",
      "text/plain": [
       "<Figure size 432x288 with 1 Axes>"
      ]
     },
     "metadata": {
      "needs_background": "light"
     },
     "output_type": "display_data"
    }
   ],
   "source": [
    "sns.countplot(x='Genre', data=books)"
   ]
  },
  {
   "cell_type": "code",
   "execution_count": 10,
   "metadata": {},
   "outputs": [
    {
     "data": {
      "text/plain": [
       "<AxesSubplot:xlabel='User Rating', ylabel='Price'>"
      ]
     },
     "execution_count": 10,
     "metadata": {},
     "output_type": "execute_result"
    },
    {
     "data": {
      "image/png": "[encoded data removed]",
      "text/plain": [
       "<Figure size 432x288 with 1 Axes>"
      ]
     },
     "metadata": {
      "needs_background": "light"
     },
     "output_type": "display_data"
    }
   ],
   "source": [
    "sns.lineplot(x='User Rating', y='Price', data=books)"
   ]
  },
  {
   "cell_type": "code",
   "execution_count": 11,
   "metadata": {},
   "outputs": [
    {
     "name": "stdout",
     "output_type": "stream",
     "text": [
      "             User Rating       Reviews      Price         Year\n",
      "Genre                                                         \n",
      "Fiction         4.648333  15683.791667  10.850000  2013.925000\n",
      "Non Fiction     4.595161   9065.145161  14.841935  2014.058065\n"
     ]
    }
   ],
   "source": [
    "print(books.groupby('Genre').mean())"
   ]
  },
  {
   "cell_type": "code",
   "execution_count": 14,
   "metadata": {},
   "outputs": [],
   "source": [
    "books = books.drop_duplicates(keep='first')"
   ]
  },
  {
   "cell_type": "code",
   "execution_count": 15,
   "metadata": {},
   "outputs": [
    {
     "name": "stdout",
     "output_type": "stream",
     "text": [
      "<class 'pandas.core.frame.DataFrame'>\n",
      "Int64Index: 550 entries, 0 to 549\n",
      "Data columns (total 7 columns):\n",
      " #   Column       Non-Null Count  Dtype  \n",
      "---  ------       --------------  -----  \n",
      " 0   Name         550 non-null    object \n",
      " 1   Author       550 non-null    object \n",
      " 2   User Rating  550 non-null    float64\n",
      " 3   Reviews      550 non-null    int64  \n",
      " 4   Price        550 non-null    int64  \n",
      " 5   Year         550 non-null    int64  \n",
      " 6   Genre        550 non-null    object \n",
      "dtypes: float64(1), int64(3), object(3)\n",
      "memory usage: 34.4+ KB\n"
     ]
    }
   ],
   "source": [
    "books.info()"
   ]
  },
  {
   "cell_type": "code",
   "execution_count": 16,
   "metadata": {},
   "outputs": [
    {
     "data": {
      "text/plain": [
       "(550, 7)"
      ]
     },
     "execution_count": 16,
     "metadata": {},
     "output_type": "execute_result"
    }
   ],
   "source": [
    "books.shape"
   ]
  },
  {
   "cell_type": "code",
   "execution_count": 17,
   "metadata": {},
   "outputs": [
    {
     "data": {
      "text/plain": [
       "array(['Abraham Verghese', 'Adam Gasiewski', 'Adam Mansbach', 'Adir Levy',\n",
       "       'Admiral William H. McRaven', 'Adult Coloring Book Designs',\n",
       "       'Alan Moore', 'Alex Michaelides', 'Alice Schertle', 'Allie Brosh',\n",
       "       'American Psychiatric Association',\n",
       "       'American Psychological Association', 'Amor Towles', 'Amy Ramos',\n",
       "       'Amy Shields', 'Andy Weir', 'Angie Grace', 'Angie Thomas',\n",
       "       'Ann Voskamp', 'Ann Whitford Paul', 'Anthony Bourdain',\n",
       "       'Anthony Doerr', 'Atul Gawande', 'Audrey Niffenegger',\n",
       "       'B. J. Novak', 'Bessel van der Kolk M.D.', 'Bill Martin Jr.',\n",
       "       \"Bill O'Reilly\", 'Bill Simmons', 'Blue Star Coloring',\n",
       "       'Bob Woodward', 'Brandon Stanton', 'Brené Brown',\n",
       "       'Brian Kilmeade', 'Bruce Springsteen', 'Carol S. Dweck',\n",
       "       'Celeste Ng', 'Charlaine Harris', 'Charles Duhigg',\n",
       "       'Charles Krauthammer', 'Cheryl Strayed', 'Chip Gaines',\n",
       "       'Chip Heath', 'Chris Cleave', 'Chris Kyle', 'Chrissy Teigen',\n",
       "       'Christina Baker Kline', 'Christopher Paolini',\n",
       "       'Coloring Books for Adults', 'Craig Smith', 'Crispin Boyer', 'DK',\n",
       "       'Dale Carnegie', 'Dan Brown', 'Daniel H. Pink',\n",
       "       'Daniel James Brown', 'Daniel Kahneman', 'Daniel Lipkowitz',\n",
       "       'Dav Pilkey', 'Dave Ramsey', 'David Goggins', 'David Grann',\n",
       "       'David McCullough', 'David Perlmutter MD', 'David Platt',\n",
       "       'David Zinczenko', 'Deborah Diesen',\n",
       "       'Delegates of the Constitutional\\x85', 'Delia Owens',\n",
       "       'Dinah Bucholz', 'Don Miguel Ruiz', 'Donna Tartt', 'Doug Lemov',\n",
       "       'Dr. Seuss', 'Dr. Steven R Gundry MD', 'Drew Daywalt', 'E L James',\n",
       "       'Eben Alexander', 'Edward Klein', 'Edward M. Kennedy',\n",
       "       'Elie Wiesel', 'Elizabeth Strout', 'Emily Winfield Martin',\n",
       "       'Eric Carle', 'Eric Larson', 'Ernest Cline', 'F. A. Hayek',\n",
       "       'F. Scott Fitzgerald', 'Francis Chan', 'Fredrik Backman', 'Gallup',\n",
       "       'Garth Stein', 'Gary Chapman', 'Gayle Forman', 'Geneen Roth',\n",
       "       'George Orwell', 'George R. R. Martin', 'George R.R. Martin',\n",
       "       'George W. Bush', 'Giles Andreae', 'Gillian Flynn', 'Glenn Beck',\n",
       "       'Golden Books', 'Greg Mortenson', 'Harper Lee', 'Heidi Murkoff',\n",
       "       'Hillary Rodham Clinton', 'Hopscotch Girls', 'Howard Stern',\n",
       "       'Ian K. Smith M.D.', 'Ina Garten', 'J. D. Vance', 'J. K. Rowling',\n",
       "       'J.K. Rowling', 'JJ Smith', 'James Comey', 'James Dashner',\n",
       "       'James Patterson', 'Jay Asher', 'Jaycee Dugard', 'Jeff Kinney',\n",
       "       'Jen Sincero', 'Jennifer Smith', 'Jill Twiss', 'Jim Collins',\n",
       "       'Joanna Gaines', 'Joel Fuhrman MD', 'Johanna Basford',\n",
       "       'John Green', 'John Grisham', 'John Heilemann', 'Jon Meacham',\n",
       "       'Jon Stewart', 'Jonathan Cahn', 'Jordan B. Peterson',\n",
       "       'Julia Child', 'Justin Halpern', 'Kathryn Stockett',\n",
       "       'Keith Richards', 'Ken Follett', 'Kevin Kwan', 'Khaled Hosseini',\n",
       "       'Kristin Hannah', 'Larry Schweikart', 'Laura Hillenbrand',\n",
       "       'Laurel Randolph', 'Lin-Manuel Miranda', 'Lysa TerKeurst',\n",
       "       'M Prefontaine', \"Madeleine L'Engle\", 'Malcolm Gladwell',\n",
       "       'Margaret Atwood', 'Margaret Wise Brown', 'Marie Kondō',\n",
       "       'Marjorie Sarnat', 'Mark Hyman M.D.', 'Mark Manson', 'Mark Owen',\n",
       "       'Mark R. Levin', 'Mark Twain', 'Markus Zusak', 'Marty Noble',\n",
       "       'Mary Ann Shaffer', 'Maurice Sendak', 'Melissa Hartwig Urban',\n",
       "       'Michael Lewis', 'Michael Pollan', 'Michael Wolff',\n",
       "       'Michelle Obama', 'Mike Moreno', 'Mitch Albom', 'Muriel Barbery',\n",
       "       'Naomi Kleinberg', 'Nathan W. Pyle', 'National Geographic Kids',\n",
       "       'Neil deGrasse Tyson', 'Paper Peony Press', 'Patrick Lencioni',\n",
       "       'Patrick Thorpe', 'Paul Kalanithi', 'Paula Hawkins',\n",
       "       'Paula McLain', 'Paulo Coelho', 'Pete Souza', 'Peter A. Lillback',\n",
       "       'Phil Robertson', 'Pierre Dukan', 'Pretty Simple Press',\n",
       "       'R. J. Palacio', 'RH Disney', 'Rachel Hollis', 'Raina Telgemeier',\n",
       "       'Randall Munroe', 'Randy Pausch', 'Ray Bradbury', 'Rebecca Skloot',\n",
       "       'Ree Drummond', 'Rick Riordan', 'Rob Bell', 'Rob Elliott',\n",
       "       'Robert Jordan', 'Robert Munsch', 'Rod Campbell', 'Roger Priddy',\n",
       "       'Ron Chernow', 'Rupi Kaur', 'Rush Limbaugh', 'Samin Nosrat',\n",
       "       'Sandra Boynton', 'Sara Gruen', 'Sarah Palin', 'Sarah Young',\n",
       "       \"Sasha O'Hara\", 'Scholastic', 'School Zone',\n",
       "       'Sherri Duskey Rinker', 'Sheryl Sandberg', 'Silly Bear',\n",
       "       'Stephen Kendrick', 'Stephen King', 'Stephen R. Covey',\n",
       "       'Stephenie Meyer', 'Steve Harvey', 'Steven D. Levitt',\n",
       "       'Stieg Larsson', 'Susan Cain', 'Suzanne Collins',\n",
       "       'Ta-Nehisi Coates', 'Tara Westover', 'Tatiana de Rosnay',\n",
       "       'The College Board', 'The Staff of The Late Show with\\x85',\n",
       "       'The Washington Post', 'Thomas Campbell', 'Thomas Piketty',\n",
       "       'Thug Kitchen', 'Timothy Ferriss', 'Tina Fey', 'Todd Burpo',\n",
       "       'Tony Hsieh', 'Tucker Carlson', 'Veronica Roth',\n",
       "       'W. Cleon Skousen', 'Walter Isaacson', 'William Davis',\n",
       "       'William P. Young', 'Wizards RPG Team', 'Zhi Gang Sha'],\n",
       "      dtype=object)"
      ]
     },
     "execution_count": 17,
     "metadata": {},
     "output_type": "execute_result"
    }
   ],
   "source": [
    "books['Author'].sort_values().unique()"
   ]
  },
  {
   "cell_type": "code",
   "execution_count": 18,
   "metadata": {},
   "outputs": [
    {
     "data": {
      "text/html": [
       "<div>\n",
       "<style scoped>\n",
       "    .dataframe tbody tr th:only-of-type {\n",
       "        vertical-align: middle;\n",
       "    }\n",
       "\n",
       "    .dataframe tbody tr th {\n",
       "        vertical-align: top;\n",
       "    }\n",
       "\n",
       "    .dataframe thead th {\n",
       "        text-align: right;\n",
       "    }\n",
       "</style>\n",
       "<table border=\"1\" class=\"dataframe\">\n",
       "  <thead>\n",
       "    <tr style=\"text-align: right;\">\n",
       "      <th></th>\n",
       "      <th>User Rating</th>\n",
       "    </tr>\n",
       "    <tr>\n",
       "      <th>Author</th>\n",
       "      <th></th>\n",
       "    </tr>\n",
       "  </thead>\n",
       "  <tbody>\n",
       "    <tr>\n",
       "      <th>Jill Twiss</th>\n",
       "      <td>4.9</td>\n",
       "    </tr>\n",
       "    <tr>\n",
       "      <th>Nathan W. Pyle</th>\n",
       "      <td>4.9</td>\n",
       "    </tr>\n",
       "    <tr>\n",
       "      <th>Chip Gaines</th>\n",
       "      <td>4.9</td>\n",
       "    </tr>\n",
       "    <tr>\n",
       "      <th>Rush Limbaugh</th>\n",
       "      <td>4.9</td>\n",
       "    </tr>\n",
       "    <tr>\n",
       "      <th>Bill Martin Jr.</th>\n",
       "      <td>4.9</td>\n",
       "    </tr>\n",
       "    <tr>\n",
       "      <th>Emily Winfield Martin</th>\n",
       "      <td>4.9</td>\n",
       "    </tr>\n",
       "    <tr>\n",
       "      <th>Pete Souza</th>\n",
       "      <td>4.9</td>\n",
       "    </tr>\n",
       "    <tr>\n",
       "      <th>Patrick Thorpe</th>\n",
       "      <td>4.9</td>\n",
       "    </tr>\n",
       "    <tr>\n",
       "      <th>Lin-Manuel Miranda</th>\n",
       "      <td>4.9</td>\n",
       "    </tr>\n",
       "    <tr>\n",
       "      <th>Sherri Duskey Rinker</th>\n",
       "      <td>4.9</td>\n",
       "    </tr>\n",
       "  </tbody>\n",
       "</table>\n",
       "</div>"
      ],
      "text/plain": [
       "                       User Rating\n",
       "Author                            \n",
       "Jill Twiss                     4.9\n",
       "Nathan W. Pyle                 4.9\n",
       "Chip Gaines                    4.9\n",
       "Rush Limbaugh                  4.9\n",
       "Bill Martin Jr.                4.9\n",
       "Emily Winfield Martin          4.9\n",
       "Pete Souza                     4.9\n",
       "Patrick Thorpe                 4.9\n",
       "Lin-Manuel Miranda             4.9\n",
       "Sherri Duskey Rinker           4.9"
      ]
     },
     "execution_count": 18,
     "metadata": {},
     "output_type": "execute_result"
    }
   ],
   "source": [
    "#get the top 10 authors\n",
    "books.groupby('Author')[['User Rating']].mean().sort_values('User Rating', ascending=False).head(10)"
   ]
  },
  {
   "cell_type": "code",
   "execution_count": 19,
   "metadata": {},
   "outputs": [
    {
     "data": {
      "text/html": [
       "<div>\n",
       "<style scoped>\n",
       "    .dataframe tbody tr th:only-of-type {\n",
       "        vertical-align: middle;\n",
       "    }\n",
       "\n",
       "    .dataframe tbody tr th {\n",
       "        vertical-align: top;\n",
       "    }\n",
       "\n",
       "    .dataframe thead th {\n",
       "        text-align: right;\n",
       "    }\n",
       "</style>\n",
       "<table border=\"1\" class=\"dataframe\">\n",
       "  <thead>\n",
       "    <tr style=\"text-align: right;\">\n",
       "      <th></th>\n",
       "      <th></th>\n",
       "      <th>count</th>\n",
       "    </tr>\n",
       "    <tr>\n",
       "      <th>Name</th>\n",
       "      <th>Author</th>\n",
       "      <th></th>\n",
       "    </tr>\n",
       "  </thead>\n",
       "  <tbody>\n",
       "    <tr>\n",
       "      <th>Publication Manual of the American Psychological Association, 6th Edition</th>\n",
       "      <th>American Psychological Association</th>\n",
       "      <td>10</td>\n",
       "    </tr>\n",
       "    <tr>\n",
       "      <th>StrengthsFinder 2.0</th>\n",
       "      <th>Gallup</th>\n",
       "      <td>9</td>\n",
       "    </tr>\n",
       "    <tr>\n",
       "      <th>Oh, the Places You'll Go!</th>\n",
       "      <th>Dr. Seuss</th>\n",
       "      <td>8</td>\n",
       "    </tr>\n",
       "    <tr>\n",
       "      <th>The Very Hungry Caterpillar</th>\n",
       "      <th>Eric Carle</th>\n",
       "      <td>7</td>\n",
       "    </tr>\n",
       "    <tr>\n",
       "      <th>The 7 Habits of Highly Effective People: Powerful Lessons in Personal Change</th>\n",
       "      <th>Stephen R. Covey</th>\n",
       "      <td>7</td>\n",
       "    </tr>\n",
       "    <tr>\n",
       "      <th>The Four Agreements: A Practical Guide to Personal Freedom (A Toltec Wisdom Book)</th>\n",
       "      <th>Don Miguel Ruiz</th>\n",
       "      <td>6</td>\n",
       "    </tr>\n",
       "    <tr>\n",
       "      <th>Jesus Calling: Enjoying Peace in His Presence (with Scripture References)</th>\n",
       "      <th>Sarah Young</th>\n",
       "      <td>6</td>\n",
       "    </tr>\n",
       "    <tr>\n",
       "      <th>The Official SAT Study Guide</th>\n",
       "      <th>The College Board</th>\n",
       "      <td>5</td>\n",
       "    </tr>\n",
       "    <tr>\n",
       "      <th>To Kill a Mockingbird</th>\n",
       "      <th>Harper Lee</th>\n",
       "      <td>5</td>\n",
       "    </tr>\n",
       "    <tr>\n",
       "      <th>The 5 Love Languages: The Secret to Love That Lasts</th>\n",
       "      <th>Gary Chapman</th>\n",
       "      <td>5</td>\n",
       "    </tr>\n",
       "  </tbody>\n",
       "</table>\n",
       "</div>"
      ],
      "text/plain": [
       "                                                                                       count\n",
       "Name                                               Author                                   \n",
       "Publication Manual of the American Psychologica... American Psychological Association     10\n",
       "StrengthsFinder 2.0                                Gallup                                  9\n",
       "Oh, the Places You'll Go!                          Dr. Seuss                               8\n",
       "The Very Hungry Caterpillar                        Eric Carle                              7\n",
       "The 7 Habits of Highly Effective People: Powerf... Stephen R. Covey                        7\n",
       "The Four Agreements: A Practical Guide to Perso... Don Miguel Ruiz                         6\n",
       "Jesus Calling: Enjoying Peace in His Presence (... Sarah Young                             6\n",
       "The Official SAT Study Guide                       The College Board                       5\n",
       "To Kill a Mockingbird                              Harper Lee                              5\n",
       "The 5 Love Languages: The Secret to Love That L... Gary Chapman                            5"
      ]
     },
     "execution_count": 19,
     "metadata": {},
     "output_type": "execute_result"
    }
   ],
   "source": [
    "# the most sold book in 2009-2019\n",
    "books.groupby(['Name', 'Author'])['Author'].agg(['count']).sort_values(by='count', ascending=False).head(10)"
   ]
  },
  {
   "cell_type": "code",
   "execution_count": null,
   "metadata": {},
   "outputs": [],
   "source": []
  }
 ],
 "metadata": {
  "kernelspec": {
   "display_name": "Python 3",
   "language": "python",
   "name": "python3"
  },
  "language_info": {
   "codemirror_mode": {
    "name": "ipython",
    "version": 3
   },
   "file_extension": ".py",
   "mimetype": "text/x-python",
   "name": "python",
   "nbconvert_exporter": "python",
   "pygments_lexer": "ipython3",
   "version": "3.8.5"
  }
 },
 "nbformat": 4,
 "nbformat_minor": 1
}