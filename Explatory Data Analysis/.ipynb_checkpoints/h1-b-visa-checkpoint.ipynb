{
 "cells": [
  {
   "cell_type": "markdown",
   "metadata": {
    "pycharm": {
     "name": "#%% md\n"
    }
   },
   "source": [
    "# H-1B Visas\n",
    "\n",
    "In this project wa are going to explore the data which was taken from [kaggle](https://www.kaggle.com/jmpark746/h1b-visas?select=h1b16.csv)\n",
    "\n",
    "### Data\n",
    "\n",
    "The H-1B Dataset selected for this project contains data from employer’s Labor Condition Application and the case certification determinations processed by the Office of Foreign Labor Certification (OFLC). The Labor Condition Application (LCA) is a document that a perspective H-1B employer files with U.S. Department of Labor Employment and Training Administration (DOLETA) when it seeks to employ non-immigrant workers at a specific job occupation in an area of intended employment for not more than three years"
   ]
  },
  {
   "cell_type": "code",
   "execution_count": 1,
   "metadata": {
    "pycharm": {
     "name": "#%%\n"
    }
   },
   "outputs": [],
   "source": [
    "import pandas as pd\n",
    "import numpy as np\n",
    "import seaborn as sns\n",
    "import matplotlib.pyplot as plt\n",
    "\n",
    "%matplotlib inline"
   ]
  },
  {
   "cell_type": "code",
   "execution_count": 17,
   "metadata": {
    "pycharm": {
     "name": "#%%\n"
    }
   },
   "outputs": [
    {
     "name": "stderr",
     "output_type": "stream",
     "text": [
      "/home/goaziz/PycharmProjects/kaggle/venv/lib/python3.8/site-packages/numpy/lib/arraysetops.py:583: FutureWarning: elementwise comparison failed; returning scalar instead, but in the future will perform elementwise comparison\n",
      "  mask |= (ar1 == a)\n"
     ]
    }
   ],
   "source": [
    "visas = pd.read_csv('../data_files/H1-B/h1b16.csv', index_col=0)"
   ]
  },
  {
   "cell_type": "code",
   "execution_count": 18,
   "metadata": {},
   "outputs": [
    {
     "data": {
      "text/html": [
       "<div>\n",
       "<style scoped>\n",
       "    .dataframe tbody tr th:only-of-type {\n",
       "        vertical-align: middle;\n",
       "    }\n",
       "\n",
       "    .dataframe tbody tr th {\n",
       "        vertical-align: top;\n",
       "    }\n",
       "\n",
       "    .dataframe thead th {\n",
       "        text-align: right;\n",
       "    }\n",
       "</style>\n",
       "<table border=\"1\" class=\"dataframe\">\n",
       "  <thead>\n",
       "    <tr style=\"text-align: right;\">\n",
       "      <th></th>\n",
       "      <th>CASE_STATUS</th>\n",
       "      <th>EMPLOYER_NAME</th>\n",
       "      <th>SOC_NAME</th>\n",
       "      <th>JOB_TITLE</th>\n",
       "      <th>FULL_TIME_POSITION</th>\n",
       "      <th>PREVAILING_WAGE</th>\n",
       "      <th>YEAR</th>\n",
       "      <th>WORKSITE</th>\n",
       "      <th>lon</th>\n",
       "      <th>lat</th>\n",
       "    </tr>\n",
       "  </thead>\n",
       "  <tbody>\n",
       "    <tr>\n",
       "      <th>1</th>\n",
       "      <td>CERTIFIED-WITHDRAWN</td>\n",
       "      <td>UNIVERSITY OF MICHIGAN</td>\n",
       "      <td>BIOCHEMISTS AND BIOPHYSICISTS</td>\n",
       "      <td>POSTDOCTORAL RESEARCH FELLOW</td>\n",
       "      <td>N</td>\n",
       "      <td>36067.0</td>\n",
       "      <td>2016.0</td>\n",
       "      <td>ANN ARBOR, MICHIGAN</td>\n",
       "      <td>-83.743038</td>\n",
       "      <td>42.280826</td>\n",
       "    </tr>\n",
       "    <tr>\n",
       "      <th>2</th>\n",
       "      <td>CERTIFIED-WITHDRAWN</td>\n",
       "      <td>GOODMAN NETWORKS, INC.</td>\n",
       "      <td>CHIEF EXECUTIVES</td>\n",
       "      <td>CHIEF OPERATING OFFICER</td>\n",
       "      <td>Y</td>\n",
       "      <td>242674.0</td>\n",
       "      <td>2016.0</td>\n",
       "      <td>PLANO, TEXAS</td>\n",
       "      <td>-96.698886</td>\n",
       "      <td>33.019843</td>\n",
       "    </tr>\n",
       "    <tr>\n",
       "      <th>3</th>\n",
       "      <td>CERTIFIED-WITHDRAWN</td>\n",
       "      <td>PORTS AMERICA GROUP, INC.</td>\n",
       "      <td>CHIEF EXECUTIVES</td>\n",
       "      <td>CHIEF PROCESS OFFICER</td>\n",
       "      <td>Y</td>\n",
       "      <td>193066.0</td>\n",
       "      <td>2016.0</td>\n",
       "      <td>JERSEY CITY, NEW JERSEY</td>\n",
       "      <td>-74.077642</td>\n",
       "      <td>40.728158</td>\n",
       "    </tr>\n",
       "    <tr>\n",
       "      <th>4</th>\n",
       "      <td>CERTIFIED-WITHDRAWN</td>\n",
       "      <td>GATES CORPORATION, A WHOLLY-OWNED SUBSIDIARY O...</td>\n",
       "      <td>CHIEF EXECUTIVES</td>\n",
       "      <td>REGIONAL PRESIDEN, AMERICAS</td>\n",
       "      <td>Y</td>\n",
       "      <td>220314.0</td>\n",
       "      <td>2016.0</td>\n",
       "      <td>DENVER, COLORADO</td>\n",
       "      <td>-104.990251</td>\n",
       "      <td>39.739236</td>\n",
       "    </tr>\n",
       "    <tr>\n",
       "      <th>5</th>\n",
       "      <td>WITHDRAWN</td>\n",
       "      <td>PEABODY INVESTMENTS CORP.</td>\n",
       "      <td>CHIEF EXECUTIVES</td>\n",
       "      <td>PRESIDENT MONGOLIA AND INDIA</td>\n",
       "      <td>Y</td>\n",
       "      <td>157518.4</td>\n",
       "      <td>2016.0</td>\n",
       "      <td>ST. LOUIS, MISSOURI</td>\n",
       "      <td>-90.199404</td>\n",
       "      <td>38.627003</td>\n",
       "    </tr>\n",
       "  </tbody>\n",
       "</table>\n",
       "</div>"
      ],
      "text/plain": [
       "           CASE_STATUS                                      EMPLOYER_NAME  \\\n",
       "1  CERTIFIED-WITHDRAWN                             UNIVERSITY OF MICHIGAN   \n",
       "2  CERTIFIED-WITHDRAWN                             GOODMAN NETWORKS, INC.   \n",
       "3  CERTIFIED-WITHDRAWN                          PORTS AMERICA GROUP, INC.   \n",
       "4  CERTIFIED-WITHDRAWN  GATES CORPORATION, A WHOLLY-OWNED SUBSIDIARY O...   \n",
       "5            WITHDRAWN                          PEABODY INVESTMENTS CORP.   \n",
       "\n",
       "                        SOC_NAME                     JOB_TITLE  \\\n",
       "1  BIOCHEMISTS AND BIOPHYSICISTS  POSTDOCTORAL RESEARCH FELLOW   \n",
       "2               CHIEF EXECUTIVES       CHIEF OPERATING OFFICER   \n",
       "3               CHIEF EXECUTIVES         CHIEF PROCESS OFFICER   \n",
       "4               CHIEF EXECUTIVES   REGIONAL PRESIDEN, AMERICAS   \n",
       "5               CHIEF EXECUTIVES  PRESIDENT MONGOLIA AND INDIA   \n",
       "\n",
       "  FULL_TIME_POSITION  PREVAILING_WAGE    YEAR                 WORKSITE  \\\n",
       "1                  N          36067.0  2016.0      ANN ARBOR, MICHIGAN   \n",
       "2                  Y         242674.0  2016.0             PLANO, TEXAS   \n",
       "3                  Y         193066.0  2016.0  JERSEY CITY, NEW JERSEY   \n",
       "4                  Y         220314.0  2016.0         DENVER, COLORADO   \n",
       "5                  Y         157518.4  2016.0      ST. LOUIS, MISSOURI   \n",
       "\n",
       "          lon        lat  \n",
       "1  -83.743038  42.280826  \n",
       "2  -96.698886  33.019843  \n",
       "3  -74.077642  40.728158  \n",
       "4 -104.990251  39.739236  \n",
       "5  -90.199404  38.627003  "
      ]
     },
     "execution_count": 18,
     "metadata": {},
     "output_type": "execute_result"
    }
   ],
   "source": [
    "visas.head()"
   ]
  },
  {
   "cell_type": "code",
   "execution_count": 19,
   "metadata": {},
   "outputs": [
    {
     "data": {
      "text/plain": [
       "Index(['CASE_STATUS', 'EMPLOYER_NAME', 'SOC_NAME', 'JOB_TITLE',\n",
       "       'FULL_TIME_POSITION', 'PREVAILING_WAGE', 'YEAR', 'WORKSITE', 'lon',\n",
       "       'lat'],\n",
       "      dtype='object')"
      ]
     },
     "execution_count": 19,
     "metadata": {},
     "output_type": "execute_result"
    }
   ],
   "source": [
    "visas.columns"
   ]
  },
  {
   "cell_type": "code",
   "execution_count": 21,
   "metadata": {},
   "outputs": [
    {
     "name": "stdout",
     "output_type": "stream",
     "text": [
      "<class 'pandas.core.frame.DataFrame'>\n",
      "Int64Index: 3002458 entries, 1 to 3002458\n",
      "Data columns (total 10 columns):\n",
      " #   Column              Dtype  \n",
      "---  ------              -----  \n",
      " 0   CASE_STATUS         object \n",
      " 1   EMPLOYER_NAME       object \n",
      " 2   SOC_NAME            object \n",
      " 3   JOB_TITLE           object \n",
      " 4   FULL_TIME_POSITION  object \n",
      " 5   PREVAILING_WAGE     float64\n",
      " 6   YEAR                float64\n",
      " 7   WORKSITE            object \n",
      " 8   lon                 float64\n",
      " 9   lat                 float64\n",
      "dtypes: float64(4), object(6)\n",
      "memory usage: 252.0+ MB\n"
     ]
    }
   ],
   "source": [
    "visas.info()"
   ]
  },
  {
   "cell_type": "code",
   "execution_count": 24,
   "metadata": {},
   "outputs": [
    {
     "data": {
      "text/html": [
       "<div>\n",
       "<style scoped>\n",
       "    .dataframe tbody tr th:only-of-type {\n",
       "        vertical-align: middle;\n",
       "    }\n",
       "\n",
       "    .dataframe tbody tr th {\n",
       "        vertical-align: top;\n",
       "    }\n",
       "\n",
       "    .dataframe thead th {\n",
       "        text-align: right;\n",
       "    }\n",
       "</style>\n",
       "<table border=\"1\" class=\"dataframe\">\n",
       "  <thead>\n",
       "    <tr style=\"text-align: right;\">\n",
       "      <th></th>\n",
       "      <th>CASE_STATUS</th>\n",
       "      <th>EMPLOYER_NAME</th>\n",
       "      <th>SOC_NAME</th>\n",
       "      <th>JOB_TITLE</th>\n",
       "      <th>FULL_TIME_POSITION</th>\n",
       "      <th>PREVAILING_WAGE</th>\n",
       "      <th>YEAR</th>\n",
       "      <th>WORKSITE</th>\n",
       "      <th>lon</th>\n",
       "      <th>lat</th>\n",
       "    </tr>\n",
       "  </thead>\n",
       "  <tbody>\n",
       "    <tr>\n",
       "      <th>count</th>\n",
       "      <td>3002445</td>\n",
       "      <td>3002399</td>\n",
       "      <td>2984724</td>\n",
       "      <td>3002415</td>\n",
       "      <td>3002443</td>\n",
       "      <td>3.002373e+06</td>\n",
       "      <td>3.002445e+06</td>\n",
       "      <td>3002458</td>\n",
       "      <td>2.895216e+06</td>\n",
       "      <td>2.895216e+06</td>\n",
       "    </tr>\n",
       "    <tr>\n",
       "      <th>unique</th>\n",
       "      <td>7</td>\n",
       "      <td>236013</td>\n",
       "      <td>2132</td>\n",
       "      <td>287549</td>\n",
       "      <td>2</td>\n",
       "      <td>NaN</td>\n",
       "      <td>NaN</td>\n",
       "      <td>18622</td>\n",
       "      <td>NaN</td>\n",
       "      <td>NaN</td>\n",
       "    </tr>\n",
       "    <tr>\n",
       "      <th>top</th>\n",
       "      <td>CERTIFIED</td>\n",
       "      <td>INFOSYS LIMITED</td>\n",
       "      <td>Computer Systems Analysts</td>\n",
       "      <td>PROGRAMMER ANALYST</td>\n",
       "      <td>Y</td>\n",
       "      <td>NaN</td>\n",
       "      <td>NaN</td>\n",
       "      <td>NEW YORK, NEW YORK</td>\n",
       "      <td>NaN</td>\n",
       "      <td>NaN</td>\n",
       "    </tr>\n",
       "    <tr>\n",
       "      <th>freq</th>\n",
       "      <td>2615623</td>\n",
       "      <td>130592</td>\n",
       "      <td>291170</td>\n",
       "      <td>249038</td>\n",
       "      <td>2576111</td>\n",
       "      <td>NaN</td>\n",
       "      <td>NaN</td>\n",
       "      <td>191719</td>\n",
       "      <td>NaN</td>\n",
       "      <td>NaN</td>\n",
       "    </tr>\n",
       "    <tr>\n",
       "      <th>mean</th>\n",
       "      <td>NaN</td>\n",
       "      <td>NaN</td>\n",
       "      <td>NaN</td>\n",
       "      <td>NaN</td>\n",
       "      <td>NaN</td>\n",
       "      <td>1.469984e+05</td>\n",
       "      <td>2.013855e+03</td>\n",
       "      <td>NaN</td>\n",
       "      <td>-9.213441e+01</td>\n",
       "      <td>3.816054e+01</td>\n",
       "    </tr>\n",
       "    <tr>\n",
       "      <th>std</th>\n",
       "      <td>NaN</td>\n",
       "      <td>NaN</td>\n",
       "      <td>NaN</td>\n",
       "      <td>NaN</td>\n",
       "      <td>NaN</td>\n",
       "      <td>5.287609e+06</td>\n",
       "      <td>1.680612e+00</td>\n",
       "      <td>NaN</td>\n",
       "      <td>1.965591e+01</td>\n",
       "      <td>4.672835e+00</td>\n",
       "    </tr>\n",
       "    <tr>\n",
       "      <th>min</th>\n",
       "      <td>NaN</td>\n",
       "      <td>NaN</td>\n",
       "      <td>NaN</td>\n",
       "      <td>NaN</td>\n",
       "      <td>NaN</td>\n",
       "      <td>0.000000e+00</td>\n",
       "      <td>2.011000e+03</td>\n",
       "      <td>NaN</td>\n",
       "      <td>-1.578583e+02</td>\n",
       "      <td>1.343719e+01</td>\n",
       "    </tr>\n",
       "    <tr>\n",
       "      <th>25%</th>\n",
       "      <td>NaN</td>\n",
       "      <td>NaN</td>\n",
       "      <td>NaN</td>\n",
       "      <td>NaN</td>\n",
       "      <td>NaN</td>\n",
       "      <td>5.437100e+04</td>\n",
       "      <td>2.012000e+03</td>\n",
       "      <td>NaN</td>\n",
       "      <td>-1.119261e+02</td>\n",
       "      <td>3.416536e+01</td>\n",
       "    </tr>\n",
       "    <tr>\n",
       "      <th>50%</th>\n",
       "      <td>NaN</td>\n",
       "      <td>NaN</td>\n",
       "      <td>NaN</td>\n",
       "      <td>NaN</td>\n",
       "      <td>NaN</td>\n",
       "      <td>6.502100e+04</td>\n",
       "      <td>2.014000e+03</td>\n",
       "      <td>NaN</td>\n",
       "      <td>-8.615862e+01</td>\n",
       "      <td>3.910312e+01</td>\n",
       "    </tr>\n",
       "    <tr>\n",
       "      <th>75%</th>\n",
       "      <td>NaN</td>\n",
       "      <td>NaN</td>\n",
       "      <td>NaN</td>\n",
       "      <td>NaN</td>\n",
       "      <td>NaN</td>\n",
       "      <td>8.143200e+04</td>\n",
       "      <td>2.015000e+03</td>\n",
       "      <td>NaN</td>\n",
       "      <td>-7.551381e+01</td>\n",
       "      <td>4.088374e+01</td>\n",
       "    </tr>\n",
       "    <tr>\n",
       "      <th>max</th>\n",
       "      <td>NaN</td>\n",
       "      <td>NaN</td>\n",
       "      <td>NaN</td>\n",
       "      <td>NaN</td>\n",
       "      <td>NaN</td>\n",
       "      <td>6.997607e+09</td>\n",
       "      <td>2.016000e+03</td>\n",
       "      <td>NaN</td>\n",
       "      <td>1.457298e+02</td>\n",
       "      <td>6.483778e+01</td>\n",
       "    </tr>\n",
       "  </tbody>\n",
       "</table>\n",
       "</div>"
      ],
      "text/plain": [
       "       CASE_STATUS    EMPLOYER_NAME                   SOC_NAME  \\\n",
       "count      3002445          3002399                    2984724   \n",
       "unique           7           236013                       2132   \n",
       "top      CERTIFIED  INFOSYS LIMITED  Computer Systems Analysts   \n",
       "freq       2615623           130592                     291170   \n",
       "mean           NaN              NaN                        NaN   \n",
       "std            NaN              NaN                        NaN   \n",
       "min            NaN              NaN                        NaN   \n",
       "25%            NaN              NaN                        NaN   \n",
       "50%            NaN              NaN                        NaN   \n",
       "75%            NaN              NaN                        NaN   \n",
       "max            NaN              NaN                        NaN   \n",
       "\n",
       "                 JOB_TITLE FULL_TIME_POSITION  PREVAILING_WAGE          YEAR  \\\n",
       "count              3002415            3002443     3.002373e+06  3.002445e+06   \n",
       "unique              287549                  2              NaN           NaN   \n",
       "top     PROGRAMMER ANALYST                  Y              NaN           NaN   \n",
       "freq                249038            2576111              NaN           NaN   \n",
       "mean                   NaN                NaN     1.469984e+05  2.013855e+03   \n",
       "std                    NaN                NaN     5.287609e+06  1.680612e+00   \n",
       "min                    NaN                NaN     0.000000e+00  2.011000e+03   \n",
       "25%                    NaN                NaN     5.437100e+04  2.012000e+03   \n",
       "50%                    NaN                NaN     6.502100e+04  2.014000e+03   \n",
       "75%                    NaN                NaN     8.143200e+04  2.015000e+03   \n",
       "max                    NaN                NaN     6.997607e+09  2.016000e+03   \n",
       "\n",
       "                  WORKSITE           lon           lat  \n",
       "count              3002458  2.895216e+06  2.895216e+06  \n",
       "unique               18622           NaN           NaN  \n",
       "top     NEW YORK, NEW YORK           NaN           NaN  \n",
       "freq                191719           NaN           NaN  \n",
       "mean                   NaN -9.213441e+01  3.816054e+01  \n",
       "std                    NaN  1.965591e+01  4.672835e+00  \n",
       "min                    NaN -1.578583e+02  1.343719e+01  \n",
       "25%                    NaN -1.119261e+02  3.416536e+01  \n",
       "50%                    NaN -8.615862e+01  3.910312e+01  \n",
       "75%                    NaN -7.551381e+01  4.088374e+01  \n",
       "max                    NaN  1.457298e+02  6.483778e+01  "
      ]
     },
     "execution_count": 24,
     "metadata": {},
     "output_type": "execute_result"
    }
   ],
   "source": [
    "visas.describe(include='all')"
   ]
  },
  {
   "cell_type": "code",
   "execution_count": 25,
   "metadata": {},
   "outputs": [
    {
     "data": {
      "text/plain": [
       "INFOSYS LIMITED                      130592\n",
       "TATA CONSULTANCY SERVICES LIMITED     64726\n",
       "WIPRO LIMITED                         48117\n",
       "DELOITTE CONSULTING LLP               36742\n",
       "IBM INDIA PRIVATE LIMITED             34219\n",
       "                                      ...  \n",
       "JAPAN TV NEWS INC.                        1\n",
       "SMARTPOWER, INC.                          1\n",
       "GILL DAIRY, LLC                           1\n",
       "PATLITE (USA) CORPORATION                 1\n",
       "HILLTOP DAIRY, LLLP                       1\n",
       "Name: EMPLOYER_NAME, Length: 236013, dtype: int64"
      ]
     },
     "execution_count": 25,
     "metadata": {},
     "output_type": "execute_result"
    }
   ],
   "source": [
    "visas['EMPLOYER_NAME'].value_counts()"
   ]
  },
  {
   "cell_type": "code",
   "execution_count": 29,
   "metadata": {},
   "outputs": [
    {
     "data": {
      "text/plain": [
       "INFOSYS LIMITED                      130592\n",
       "TATA CONSULTANCY SERVICES LIMITED     64726\n",
       "WIPRO LIMITED                         48117\n",
       "DELOITTE CONSULTING LLP               36742\n",
       "IBM INDIA PRIVATE LIMITED             34219\n",
       "                                      ...  \n",
       "JAPAN TV NEWS INC.                        1\n",
       "SMARTPOWER, INC.                          1\n",
       "GILL DAIRY, LLC                           1\n",
       "PATLITE (USA) CORPORATION                 1\n",
       "HILLTOP DAIRY, LLLP                       1\n",
       "Name: EMPLOYER_NAME, Length: 236013, dtype: int64"
      ]
     },
     "execution_count": 29,
     "metadata": {},
     "output_type": "execute_result"
    }
   ],
   "source": [
    "visas['EMPLOYER_NAME'].value_counts()"
   ]
  },
  {
   "cell_type": "code",
   "execution_count": null,
   "metadata": {},
   "outputs": [],
   "source": []
  }
 ],
 "metadata": {
  "kernelspec": {
   "display_name": "Python 3",
   "language": "python",
   "name": "python3"
  },
  "language_info": {
   "codemirror_mode": {
    "name": "ipython",
    "version": 3
   },
   "file_extension": ".py",
   "mimetype": "text/x-python",
   "name": "python",
   "nbconvert_exporter": "python",
   "pygments_lexer": "ipython3",
   "version": "3.8.5"
  }
 },
 "nbformat": 4,
 "nbformat_minor": 1
}
